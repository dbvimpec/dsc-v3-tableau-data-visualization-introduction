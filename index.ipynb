{
 "cells": [
  {
   "cell_type": "markdown",
   "metadata": {},
   "source": [
    "# Data Visualization with Tableau - Introduction"
   ]
  },
  {
   "cell_type": "markdown",
   "metadata": {},
   "source": [
    "## Introduction\n",
    "In this section, you'll learn about a popular Business Information platform called Tableau. Tableau is used for the creation of sharable visualizations and customized dashboards for the consumption of stakeholders. The visualizations and dashboards created with Tableau will consist largely of graphs, tables and charts which may or may not be interactive. "
   ]
  },
  {
   "cell_type": "markdown",
   "metadata": {},
   "source": [
    "## What is Tableau?"
   ]
  },
  {
   "cell_type": "markdown",
   "metadata": {},
   "source": [
    "Tableau is a powerful data analysis tool that allows data to be presented in a manner that allows it to be easily digestible with visualizations and charts to aid in the simplification of the data and it's analysis.  Tableau contains many customizable features and makes it easy to share in many ways. Tableau has many uses in the data science context, the most popular is for __Business Information__ commonly referred to as \"__B.I.__\" There are many ways Tableau can be used for B.I. but we will focus on just a few in this section."
   ]
  },
  {
   "cell_type": "markdown",
   "metadata": {},
   "source": [
    "## Sharing Data Analytics"
   ]
  },
  {
   "cell_type": "markdown",
   "metadata": {},
   "source": [
    "One very simple feature of Tableau is the ability to share data analytics with many people who need to gain insight from the data you are working with. These analytics can be as simple as one visualization or a large collection of many charts and graphs."
   ]
  },
  {
   "cell_type": "markdown",
   "metadata": {},
   "source": [
    "## Dashboarding"
   ]
  },
  {
   "cell_type": "markdown",
   "metadata": {},
   "source": [
    "Another feature of Tableau is the ability to create __dashboards__. A dashboard is a business tool that can be used to sort and display data to gain deeper insight into the data being analyzed. Tableau excels in the amount of tools available for creating dashboards with a large selection of graphs and charts, the flexibility to format and arrange all of your elements in a manner that will allow you to communicate your findings from the data. You can customize many aspects of the elements in your dashboard by changing fonts, colors, sizes, positions, etc. The elements will also maintain a connection to the data source for live updates."
   ]
  },
  {
   "cell_type": "markdown",
   "metadata": {},
   "source": [
    "## Tableau Products and Versions"
   ]
  },
  {
   "cell_type": "markdown",
   "metadata": {},
   "source": [
    "Tableau's data visualization software comes in various platforms which are very similar at their core, but have different features that you may or may not need for your situation. The most popular of these platforms are Tableau Desktop and Tableau Public."
   ]
  },
  {
   "cell_type": "markdown",
   "metadata": {},
   "source": [
    "## Tableau Desktop"
   ]
  },
  {
   "cell_type": "markdown",
   "metadata": {},
   "source": [
    "## content for topic title 2"
   ]
  },
  {
   "cell_type": "markdown",
   "metadata": {},
   "source": [
    "## Topic Title 3"
   ]
  },
  {
   "cell_type": "code",
   "execution_count": 1,
   "metadata": {},
   "outputs": [],
   "source": [
    "## content for topic title 3"
   ]
  },
  {
   "cell_type": "markdown",
   "metadata": {},
   "source": [
    "## Summary\n",
    "Summary goes here"
   ]
  }
 ],
 "metadata": {
  "kernelspec": {
   "display_name": "Python 3",
   "language": "python",
   "name": "python3"
  },
  "language_info": {
   "codemirror_mode": {
    "name": "ipython",
    "version": 3
   },
   "file_extension": ".py",
   "mimetype": "text/x-python",
   "name": "python",
   "nbconvert_exporter": "python",
   "pygments_lexer": "ipython3",
   "version": "3.6.4"
  }
 },
 "nbformat": 4,
 "nbformat_minor": 2
}
